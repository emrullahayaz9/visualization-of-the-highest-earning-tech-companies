{
 "cells": [
  {
   "cell_type": "code",
   "execution_count": 149,
   "id": "5d31ab21-7c86-43d8-afd6-48bf37c2d317",
   "metadata": {},
   "outputs": [],
   "source": [
    "import pandas as pd\n",
    "import numpy as np\n",
    "import matplotlib.pyplot as plt\n",
    "import seaborn as sns"
   ]
  },
  {
   "cell_type": "code",
   "execution_count": 150,
   "id": "e9ae71d0-adab-4f84-bb29-50718631329b",
   "metadata": {},
   "outputs": [
    {
     "data": {
      "text/html": [
       "<div>\n",
       "<style scoped>\n",
       "    .dataframe tbody tr th:only-of-type {\n",
       "        vertical-align: middle;\n",
       "    }\n",
       "\n",
       "    .dataframe tbody tr th {\n",
       "        vertical-align: top;\n",
       "    }\n",
       "\n",
       "    .dataframe thead th {\n",
       "        text-align: right;\n",
       "    }\n",
       "</style>\n",
       "<table border=\"1\" class=\"dataframe\">\n",
       "  <thead>\n",
       "    <tr style=\"text-align: right;\">\n",
       "      <th></th>\n",
       "      <th>Company Name</th>\n",
       "      <th>Industry</th>\n",
       "      <th>Sector</th>\n",
       "      <th>HQ State</th>\n",
       "      <th>Founding Year</th>\n",
       "      <th>Annual Revenue 2022-2023 (USD in Billions)</th>\n",
       "      <th>Market Cap (USD in Trillions)</th>\n",
       "      <th>Stock Name</th>\n",
       "      <th>Annual Income Tax in 2022-2023 (USD in Billions)</th>\n",
       "      <th>Employee Size</th>\n",
       "    </tr>\n",
       "  </thead>\n",
       "  <tbody>\n",
       "    <tr>\n",
       "      <th>0</th>\n",
       "      <td>Apple Inc.</td>\n",
       "      <td>Technology</td>\n",
       "      <td>Consumer Electronics</td>\n",
       "      <td>California</td>\n",
       "      <td>1905</td>\n",
       "      <td>387.53</td>\n",
       "      <td>2.520</td>\n",
       "      <td>AAPL</td>\n",
       "      <td>18.314</td>\n",
       "      <td>164000</td>\n",
       "    </tr>\n",
       "    <tr>\n",
       "      <th>1</th>\n",
       "      <td>Microsoft Corporation</td>\n",
       "      <td>Technology</td>\n",
       "      <td>Software Infrastructure</td>\n",
       "      <td>Washington</td>\n",
       "      <td>1905</td>\n",
       "      <td>204.09</td>\n",
       "      <td>2.037</td>\n",
       "      <td>MSFT</td>\n",
       "      <td>15.139</td>\n",
       "      <td>221000</td>\n",
       "    </tr>\n",
       "    <tr>\n",
       "      <th>2</th>\n",
       "      <td>Alphabet (Google)</td>\n",
       "      <td>Technology</td>\n",
       "      <td>Software Infrastructure</td>\n",
       "      <td>California</td>\n",
       "      <td>1905</td>\n",
       "      <td>282.83</td>\n",
       "      <td>1.350</td>\n",
       "      <td>GOOG</td>\n",
       "      <td>11.356</td>\n",
       "      <td>190234</td>\n",
       "    </tr>\n",
       "    <tr>\n",
       "      <th>3</th>\n",
       "      <td>Amazon</td>\n",
       "      <td>Technology</td>\n",
       "      <td>Software Application</td>\n",
       "      <td>Washington</td>\n",
       "      <td>1905</td>\n",
       "      <td>513.98</td>\n",
       "      <td>1.030</td>\n",
       "      <td>AMZN</td>\n",
       "      <td>-3.217</td>\n",
       "      <td>1541000</td>\n",
       "    </tr>\n",
       "    <tr>\n",
       "      <th>4</th>\n",
       "      <td>NVIDIA Corporation</td>\n",
       "      <td>Technology</td>\n",
       "      <td>Semiconductors</td>\n",
       "      <td>California</td>\n",
       "      <td>1905</td>\n",
       "      <td>26.97</td>\n",
       "      <td>0.653</td>\n",
       "      <td>NVDA</td>\n",
       "      <td>0.189</td>\n",
       "      <td>22473</td>\n",
       "    </tr>\n",
       "  </tbody>\n",
       "</table>\n",
       "</div>"
      ],
      "text/plain": [
       "            Company Name    Industry                   Sector    HQ State  \\\n",
       "0             Apple Inc.  Technology     Consumer Electronics  California   \n",
       "1  Microsoft Corporation  Technology  Software Infrastructure  Washington   \n",
       "2      Alphabet (Google)  Technology  Software Infrastructure  California   \n",
       "3                 Amazon  Technology     Software Application  Washington   \n",
       "4     NVIDIA Corporation  Technology           Semiconductors  California   \n",
       "\n",
       "   Founding Year  Annual Revenue 2022-2023 (USD in Billions)  \\\n",
       "0           1905                                      387.53   \n",
       "1           1905                                      204.09   \n",
       "2           1905                                      282.83   \n",
       "3           1905                                      513.98   \n",
       "4           1905                                       26.97   \n",
       "\n",
       "   Market Cap (USD in Trillions) Stock Name  \\\n",
       "0                          2.520       AAPL   \n",
       "1                          2.037       MSFT   \n",
       "2                          1.350       GOOG   \n",
       "3                          1.030       AMZN   \n",
       "4                          0.653       NVDA   \n",
       "\n",
       "   Annual Income Tax in 2022-2023 (USD in Billions)  Employee Size  \n",
       "0                                            18.314         164000  \n",
       "1                                            15.139         221000  \n",
       "2                                            11.356         190234  \n",
       "3                                            -3.217        1541000  \n",
       "4                                             0.189          22473  "
      ]
     },
     "execution_count": 150,
     "metadata": {},
     "output_type": "execute_result"
    }
   ],
   "source": [
    "df = pd.read_csv(\"../../Desktop/kaggle/Top 50 US Tech Companies 2022 - 2023.csv\")\n",
    "df.head()"
   ]
  },
  {
   "cell_type": "markdown",
   "id": "bbb080df-4627-4182-9e70-a45f54ca7422",
   "metadata": {},
   "source": [
    "### The question is: which sector earn more?"
   ]
  },
  {
   "cell_type": "code",
   "execution_count": null,
   "id": "778783bc-2f15-45de-9a55-b24026413033",
   "metadata": {},
   "outputs": [],
   "source": []
  },
  {
   "cell_type": "code",
   "execution_count": 151,
   "id": "8a227ac0-5eb2-421a-82f6-6712af44c836",
   "metadata": {},
   "outputs": [
    {
     "data": {
      "text/html": [
       "<div>\n",
       "<style scoped>\n",
       "    .dataframe tbody tr th:only-of-type {\n",
       "        vertical-align: middle;\n",
       "    }\n",
       "\n",
       "    .dataframe tbody tr th {\n",
       "        vertical-align: top;\n",
       "    }\n",
       "\n",
       "    .dataframe thead th {\n",
       "        text-align: right;\n",
       "    }\n",
       "</style>\n",
       "<table border=\"1\" class=\"dataframe\">\n",
       "  <thead>\n",
       "    <tr style=\"text-align: right;\">\n",
       "      <th></th>\n",
       "      <th>count</th>\n",
       "      <th>mean</th>\n",
       "      <th>std</th>\n",
       "      <th>min</th>\n",
       "      <th>25%</th>\n",
       "      <th>50%</th>\n",
       "      <th>75%</th>\n",
       "      <th>max</th>\n",
       "    </tr>\n",
       "  </thead>\n",
       "  <tbody>\n",
       "    <tr>\n",
       "      <th>Founding Year</th>\n",
       "      <td>50.0</td>\n",
       "      <td>1905.00000</td>\n",
       "      <td>0.000000</td>\n",
       "      <td>1905.000</td>\n",
       "      <td>1905.00000</td>\n",
       "      <td>1905.0000</td>\n",
       "      <td>1905.00000</td>\n",
       "      <td>1905.000</td>\n",
       "    </tr>\n",
       "    <tr>\n",
       "      <th>Annual Revenue 2022-2023 (USD in Billions)</th>\n",
       "      <td>50.0</td>\n",
       "      <td>51.20440</td>\n",
       "      <td>97.412880</td>\n",
       "      <td>2.060</td>\n",
       "      <td>7.65250</td>\n",
       "      <td>17.6650</td>\n",
       "      <td>40.81500</td>\n",
       "      <td>513.980</td>\n",
       "    </tr>\n",
       "    <tr>\n",
       "      <th>Market Cap (USD in Trillions)</th>\n",
       "      <td>50.0</td>\n",
       "      <td>0.25216</td>\n",
       "      <td>0.490377</td>\n",
       "      <td>0.028</td>\n",
       "      <td>0.05125</td>\n",
       "      <td>0.0825</td>\n",
       "      <td>0.16025</td>\n",
       "      <td>2.520</td>\n",
       "    </tr>\n",
       "    <tr>\n",
       "      <th>Annual Income Tax in 2022-2023 (USD in Billions)</th>\n",
       "      <td>50.0</td>\n",
       "      <td>1.38678</td>\n",
       "      <td>3.687916</td>\n",
       "      <td>-3.217</td>\n",
       "      <td>0.09875</td>\n",
       "      <td>0.2805</td>\n",
       "      <td>0.94500</td>\n",
       "      <td>18.314</td>\n",
       "    </tr>\n",
       "    <tr>\n",
       "      <th>Employee Size</th>\n",
       "      <td>50.0</td>\n",
       "      <td>83249.62000</td>\n",
       "      <td>220586.929174</td>\n",
       "      <td>2993.000</td>\n",
       "      <td>14150.00000</td>\n",
       "      <td>24725.0000</td>\n",
       "      <td>70155.75000</td>\n",
       "      <td>1541000.000</td>\n",
       "    </tr>\n",
       "  </tbody>\n",
       "</table>\n",
       "</div>"
      ],
      "text/plain": [
       "                                                  count         mean  \\\n",
       "Founding Year                                      50.0   1905.00000   \n",
       "Annual Revenue 2022-2023 (USD in Billions)         50.0     51.20440   \n",
       "Market Cap (USD in Trillions)                      50.0      0.25216   \n",
       "Annual Income Tax in 2022-2023 (USD in Billions)   50.0      1.38678   \n",
       "Employee Size                                      50.0  83249.62000   \n",
       "\n",
       "                                                            std       min  \\\n",
       "Founding Year                                          0.000000  1905.000   \n",
       "Annual Revenue 2022-2023 (USD in Billions)            97.412880     2.060   \n",
       "Market Cap (USD in Trillions)                          0.490377     0.028   \n",
       "Annual Income Tax in 2022-2023 (USD in Billions)       3.687916    -3.217   \n",
       "Employee Size                                     220586.929174  2993.000   \n",
       "\n",
       "                                                          25%         50%  \\\n",
       "Founding Year                                      1905.00000   1905.0000   \n",
       "Annual Revenue 2022-2023 (USD in Billions)            7.65250     17.6650   \n",
       "Market Cap (USD in Trillions)                         0.05125      0.0825   \n",
       "Annual Income Tax in 2022-2023 (USD in Billions)      0.09875      0.2805   \n",
       "Employee Size                                     14150.00000  24725.0000   \n",
       "\n",
       "                                                          75%          max  \n",
       "Founding Year                                      1905.00000     1905.000  \n",
       "Annual Revenue 2022-2023 (USD in Billions)           40.81500      513.980  \n",
       "Market Cap (USD in Trillions)                         0.16025        2.520  \n",
       "Annual Income Tax in 2022-2023 (USD in Billions)      0.94500       18.314  \n",
       "Employee Size                                     70155.75000  1541000.000  "
      ]
     },
     "execution_count": 151,
     "metadata": {},
     "output_type": "execute_result"
    }
   ],
   "source": [
    "df.describe().T"
   ]
  },
  {
   "cell_type": "code",
   "execution_count": 152,
   "id": "41859e22-cdd8-4167-b306-aae0c8c68762",
   "metadata": {},
   "outputs": [],
   "source": [
    "df[\"Industry\"] = df[\"Industry\"].astype(\"category\") \n",
    "df[\"Sector\"] = df[\"Sector\"].astype(\"category\") \n",
    "df[\"Founding Year \"] = df[\"Founding Year\"].astype(\"int64\") "
   ]
  },
  {
   "cell_type": "code",
   "execution_count": 153,
   "id": "27b4774b-6837-4634-9578-22830a531a65",
   "metadata": {},
   "outputs": [
    {
     "data": {
      "text/plain": [
       "Company Name                                          object\n",
       "Industry                                            category\n",
       "Sector                                              category\n",
       "HQ State                                              object\n",
       "Founding Year                                          int64\n",
       "Annual Revenue 2022-2023 (USD in Billions)           float64\n",
       "Market Cap (USD in Trillions)                        float64\n",
       "Stock Name                                            object\n",
       "Annual Income Tax in 2022-2023 (USD in Billions)     float64\n",
       "Employee Size                                          int64\n",
       "Founding Year                                          int64\n",
       "dtype: object"
      ]
     },
     "execution_count": 153,
     "metadata": {},
     "output_type": "execute_result"
    }
   ],
   "source": [
    "df.dtypes"
   ]
  },
  {
   "cell_type": "code",
   "execution_count": 154,
   "id": "7605ad62-cdbc-4c1c-8c9f-c07cb7d94d09",
   "metadata": {},
   "outputs": [
    {
     "data": {
      "text/plain": [
       "0       Consumer Electronics\n",
       "1    Software Infrastructure\n",
       "2    Software Infrastructure\n",
       "3       Software Application\n",
       "4             Semiconductors\n",
       "Name: Sector, dtype: category\n",
       "Categories (8, object): ['Communication Equipments', 'Computer Hardware', 'Consumer Electronics', 'Electronic Components', 'IT Services', 'Semiconductors', 'Software Application', 'Software Infrastructure']"
      ]
     },
     "execution_count": 154,
     "metadata": {},
     "output_type": "execute_result"
    }
   ],
   "source": [
    "df.Sector.head()"
   ]
  },
  {
   "cell_type": "code",
   "execution_count": 155,
   "id": "d9bd58a1-738e-4457-acac-47a2f8559aa9",
   "metadata": {},
   "outputs": [
    {
     "data": {
      "text/plain": [
       "{'Software Application': 15,\n",
       " 'Semiconductors': 14,\n",
       " 'Software Infrastructure': 12,\n",
       " 'Computer Hardware': 3,\n",
       " 'IT Services': 3,\n",
       " 'Communication Equipments': 1,\n",
       " 'Consumer Electronics': 1,\n",
       " 'Electronic Components': 1}"
      ]
     },
     "execution_count": 155,
     "metadata": {},
     "output_type": "execute_result"
    }
   ],
   "source": [
    "sector_dict = df[\"Sector\"].value_counts().to_dict()\n",
    "sector_dict"
   ]
  },
  {
   "cell_type": "code",
   "execution_count": 156,
   "id": "7e388e39-9b93-43a1-b4ac-d12b0e6eb8b7",
   "metadata": {},
   "outputs": [
    {
     "name": "stderr",
     "output_type": "stream",
     "text": [
      "/home/emrullahayaz/.local/lib/python3.10/site-packages/seaborn/_oldcore.py:1498: FutureWarning: is_categorical_dtype is deprecated and will be removed in a future version. Use isinstance(dtype, CategoricalDtype) instead\n",
      "  if pd.api.types.is_categorical_dtype(vector):\n",
      "/home/emrullahayaz/.local/lib/python3.10/site-packages/seaborn/_oldcore.py:1498: FutureWarning: is_categorical_dtype is deprecated and will be removed in a future version. Use isinstance(dtype, CategoricalDtype) instead\n",
      "  if pd.api.types.is_categorical_dtype(vector):\n",
      "/home/emrullahayaz/.local/lib/python3.10/site-packages/seaborn/_oldcore.py:1765: FutureWarning: unique with argument that is not not a Series, Index, ExtensionArray, or np.ndarray is deprecated and will raise in a future version.\n",
      "  order = pd.unique(vector)\n",
      "/home/emrullahayaz/.local/lib/python3.10/site-packages/seaborn/_oldcore.py:1498: FutureWarning: is_categorical_dtype is deprecated and will be removed in a future version. Use isinstance(dtype, CategoricalDtype) instead\n",
      "  if pd.api.types.is_categorical_dtype(vector):\n"
     ]
    },
    {
     "data": {
      "image/png": "[encoded data removed]",
      "text/plain": [
       "<Figure size 640x480 with 1 Axes>"
      ]
     },
     "metadata": {},
     "output_type": "display_data"
    }
   ],
   "source": [
    "keys = list(sector_dict.keys())\n",
    "values = list(sector_dict.values())\n",
    "# Each sector has how many company?\n",
    "fig = sns.barplot(x=values,y=keys)"
   ]
  },
  {
   "cell_type": "markdown",
   "id": "c09ae6e4-20d2-4b8d-b19b-1085ee95a704",
   "metadata": {},
   "source": [
    "### each_sector*avg_of_each_sector = total_earn"
   ]
  },
  {
   "cell_type": "code",
   "execution_count": 157,
   "id": "4658bdb4-0acd-4a6f-8ed9-5a1a23bde11d",
   "metadata": {},
   "outputs": [
    {
     "name": "stderr",
     "output_type": "stream",
     "text": [
      "/tmp/ipykernel_13652/1774829970.py:1: FutureWarning: The default of observed=False is deprecated and will be changed to True in a future version of pandas. Pass observed=False to retain current behavior or observed=True to adopt the future default and silence this warning.\n",
      "  mean_grouped_dict = df.groupby(\"Sector\")[\"Annual Revenue 2022-2023 (USD in Billions)\"].mean().to_dict()\n"
     ]
    },
    {
     "data": {
      "text/plain": [
       "{'Communication Equipments': 53.16,\n",
       " 'Computer Hardware': 55.48666666666666,\n",
       " 'Consumer Electronics': 387.53,\n",
       " 'Electronic Components': 5.61,\n",
       " 'IT Services': 28.503333333333334,\n",
       " 'Semiconductors': 23.467857142857145,\n",
       " 'Software Application': 47.376,\n",
       " 'Software Infrastructure': 68.56333333333333}"
      ]
     },
     "execution_count": 157,
     "metadata": {},
     "output_type": "execute_result"
    }
   ],
   "source": [
    "mean_grouped_dict = df.groupby(\"Sector\")[\"Annual Revenue 2022-2023 (USD in Billions)\"].mean().to_dict()\n",
    "grouped_dict"
   ]
  },
  {
   "cell_type": "code",
   "execution_count": 160,
   "id": "67d10e22-0eec-4831-9783-d536af1707bc",
   "metadata": {},
   "outputs": [
    {
     "data": {
      "text/plain": [
       "[('Communication Equipments', 53.16),\n",
       " ('Computer Hardware', 166.45999999999998),\n",
       " ('Consumer Electronics', 387.53),\n",
       " ('Electronic Components', 5.61),\n",
       " ('IT Services', 85.51),\n",
       " ('Semiconductors', 328.55),\n",
       " ('Software Application', 710.64),\n",
       " ('Software Infrastructure', 822.76)]"
      ]
     },
     "execution_count": 160,
     "metadata": {},
     "output_type": "execute_result"
    }
   ],
   "source": [
    "list_of_total_earn_per_year = []\n",
    "for i in mean_grouped_dict.keys():\n",
    "    a = float(mean_grouped_dict[i])\n",
    "    b = float(sector_dict[i])\n",
    "    list_of_total_earn_per_year.append((i, a*b))\n",
    "list_of_total_earn_per_year"
   ]
  },
  {
   "cell_type": "code",
   "execution_count": 161,
   "id": "bd3cd3af-e2a9-4f2f-b147-a37d3e85e216",
   "metadata": {},
   "outputs": [
    {
     "data": {
      "text/plain": [
       "{'Communication Equipments': 53.16,\n",
       " 'Computer Hardware': 166.45999999999998,\n",
       " 'Consumer Electronics': 387.53,\n",
       " 'Electronic Components': 5.61,\n",
       " 'IT Services': 85.51,\n",
       " 'Semiconductors': 328.55,\n",
       " 'Software Application': 710.64,\n",
       " 'Software Infrastructure': 822.76}"
      ]
     },
     "execution_count": 161,
     "metadata": {},
     "output_type": "execute_result"
    }
   ],
   "source": [
    "final_dict_object = {}\n",
    "for i in list_of_total_earn_per_year:\n",
    "    final_dict_object[i[0]] = i[1]\n",
    "final_dict_object"
   ]
  },
  {
   "cell_type": "markdown",
   "id": "8eaa96a6-233e-4f9f-b4d6-e60eaf8408ed",
   "metadata": {},
   "source": [
    "## CONCLUSION"
   ]
  },
  {
   "cell_type": "code",
   "execution_count": 163,
   "id": "93ea76d7-9082-483c-a36c-575c15334b90",
   "metadata": {},
   "outputs": [
    {
     "name": "stderr",
     "output_type": "stream",
     "text": [
      "/home/emrullahayaz/.local/lib/python3.10/site-packages/seaborn/_oldcore.py:1498: FutureWarning: is_categorical_dtype is deprecated and will be removed in a future version. Use isinstance(dtype, CategoricalDtype) instead\n",
      "  if pd.api.types.is_categorical_dtype(vector):\n",
      "/home/emrullahayaz/.local/lib/python3.10/site-packages/seaborn/_oldcore.py:1498: FutureWarning: is_categorical_dtype is deprecated and will be removed in a future version. Use isinstance(dtype, CategoricalDtype) instead\n",
      "  if pd.api.types.is_categorical_dtype(vector):\n",
      "/home/emrullahayaz/.local/lib/python3.10/site-packages/seaborn/_oldcore.py:1765: FutureWarning: unique with argument that is not not a Series, Index, ExtensionArray, or np.ndarray is deprecated and will raise in a future version.\n",
      "  order = pd.unique(vector)\n",
      "/home/emrullahayaz/.local/lib/python3.10/site-packages/seaborn/_oldcore.py:1498: FutureWarning: is_categorical_dtype is deprecated and will be removed in a future version. Use isinstance(dtype, CategoricalDtype) instead\n",
      "  if pd.api.types.is_categorical_dtype(vector):\n"
     ]
    },
    {
     "data": {
      "image/png": "[encoded data removed]",
      "text/plain": [
       "<Figure size 640x480 with 1 Axes>"
      ]
     },
     "metadata": {},
     "output_type": "display_data"
    }
   ],
   "source": [
    "keys = list(final_dict_object.keys())\n",
    "values = list(final_dict_object.values())\n",
    "fig = sns.barplot(x=values,y=keys)\n",
    "fig;"
   ]
  }
 ],
 "metadata": {
  "kernelspec": {
   "display_name": "Python 3 (ipykernel)",
   "language": "python",
   "name": "python3"
  },
  "language_info": {
   "codemirror_mode": {
    "name": "ipython",
    "version": 3
   },
   "file_extension": ".py",
   "mimetype": "text/x-python",
   "name": "python",
   "nbconvert_exporter": "python",
   "pygments_lexer": "ipython3",
   "version": "3.10.12"
  }
 },
 "nbformat": 4,
 "nbformat_minor": 5
}
